{
 "cells": [
  {
   "cell_type": "markdown",
   "id": "261556e7-6924-4677-8d22-b7018ef8253b",
   "metadata": {},
   "source": [
    "# Demonstração Pandas"
   ]
  },
  {
   "cell_type": "code",
   "execution_count": 78,
   "id": "31a7a204-d31a-4874-a77e-7a6334afc41b",
   "metadata": {},
   "outputs": [],
   "source": [
    "#Importar as bibliotecas\n",
    "import pandas as pd\n",
    "import numpy as np"
   ]
  },
  {
   "cell_type": "code",
   "execution_count": 79,
   "id": "c41467c9-bd70-4c2b-b199-03a3cda252a2",
   "metadata": {},
   "outputs": [
    {
     "data": {
      "text/plain": [
       "0    1\n",
       "1    2\n",
       "2   -5\n",
       "3    0\n",
       "dtype: int64"
      ]
     },
     "execution_count": 79,
     "metadata": {},
     "output_type": "execute_result"
    }
   ],
   "source": [
    "s1=pd.Series([1,2,-5,0])\n",
    "s1"
   ]
  },
  {
   "cell_type": "code",
   "execution_count": 80,
   "id": "6640beef-2e3f-4692-9f17-0beaa09c6878",
   "metadata": {},
   "outputs": [
    {
     "data": {
      "text/plain": [
       "array([ 1,  2, -5,  0])"
      ]
     },
     "execution_count": 80,
     "metadata": {},
     "output_type": "execute_result"
    }
   ],
   "source": [
    "s1.values"
   ]
  },
  {
   "cell_type": "code",
   "execution_count": 81,
   "id": "05cc2b53-6ff6-4bdb-b3e4-22f7f65df7fd",
   "metadata": {},
   "outputs": [
    {
     "data": {
      "text/plain": [
       "RangeIndex(start=0, stop=4, step=1)"
      ]
     },
     "execution_count": 81,
     "metadata": {},
     "output_type": "execute_result"
    }
   ],
   "source": [
    "s1.index"
   ]
  },
  {
   "cell_type": "code",
   "execution_count": 82,
   "id": "61efd088-b257-4257-85fc-da0535ba7597",
   "metadata": {},
   "outputs": [
    {
     "data": {
      "text/plain": [
       "a    1\n",
       "b    2\n",
       "c   -5\n",
       "d    0\n",
       "dtype: int64"
      ]
     },
     "execution_count": 82,
     "metadata": {},
     "output_type": "execute_result"
    }
   ],
   "source": [
    "# Criando uma serie com indices representado por letras\n",
    "s2=pd.Series([1,2,-5,0],index=['a','b','c','d'])\n",
    "s2"
   ]
  },
  {
   "cell_type": "code",
   "execution_count": 83,
   "id": "23526c24-a16e-4bc3-ad35-3b7934e6377f",
   "metadata": {},
   "outputs": [],
   "source": [
    "s2['a']=1000"
   ]
  },
  {
   "cell_type": "code",
   "execution_count": 84,
   "id": "c74692a5-22e6-4429-987c-7b0e38512dab",
   "metadata": {},
   "outputs": [
    {
     "data": {
      "text/plain": [
       "a    1000\n",
       "b       2\n",
       "c      -5\n",
       "d       0\n",
       "dtype: int64"
      ]
     },
     "execution_count": 84,
     "metadata": {},
     "output_type": "execute_result"
    }
   ],
   "source": [
    "s2"
   ]
  },
  {
   "cell_type": "code",
   "execution_count": 85,
   "id": "e4181bed-5d18-4f37-8948-da63e79516e1",
   "metadata": {},
   "outputs": [
    {
     "data": {
      "text/plain": [
       "Index(['a', 'b', 'c', 'd'], dtype='object')"
      ]
     },
     "execution_count": 85,
     "metadata": {},
     "output_type": "execute_result"
    }
   ],
   "source": [
    "s2.index"
   ]
  },
  {
   "cell_type": "code",
   "execution_count": 86,
   "id": "d1f8978a-c5fc-44ae-bac0-f1f298bf9be9",
   "metadata": {},
   "outputs": [],
   "source": [
    " # Agora vamos atribuir valores pegando qualquer posicao\n",
    "s2['a']=7675"
   ]
  },
  {
   "cell_type": "code",
   "execution_count": 87,
   "id": "0b1f1500-3b3d-4dff-bbf1-31167479ea2c",
   "metadata": {},
   "outputs": [
    {
     "data": {
      "text/plain": [
       "a    7675\n",
       "b       2\n",
       "c      -5\n",
       "d       0\n",
       "dtype: int64"
      ]
     },
     "execution_count": 87,
     "metadata": {},
     "output_type": "execute_result"
    }
   ],
   "source": [
    "s2"
   ]
  },
  {
   "cell_type": "code",
   "execution_count": 88,
   "id": "7284165f-dda6-431e-898f-ad45ea504c8f",
   "metadata": {},
   "outputs": [],
   "source": [
    "#Atribuindo outros valores nas posicoes b,d,c\n",
    "s2['b']=20\n",
    "s2['d']=0\n",
    "s2['c']=125"
   ]
  },
  {
   "cell_type": "code",
   "execution_count": 89,
   "id": "18184a9b-ceab-41c6-b69b-5b679ac0feca",
   "metadata": {},
   "outputs": [
    {
     "data": {
      "text/plain": [
       "a    7675\n",
       "b      20\n",
       "c     125\n",
       "d       0\n",
       "dtype: int64"
      ]
     },
     "execution_count": 89,
     "metadata": {},
     "output_type": "execute_result"
    }
   ],
   "source": [
    "s2"
   ]
  },
  {
   "cell_type": "markdown",
   "id": "be7c80b2-4dd0-4654-bd10-bb9ec4528426",
   "metadata": {},
   "source": [
    "# Comparacao"
   ]
  },
  {
   "cell_type": "code",
   "execution_count": 90,
   "id": "06573f79-4717-4bfe-8fa6-8686d82b7f18",
   "metadata": {},
   "outputs": [
    {
     "data": {
      "text/plain": [
       "a    7675\n",
       "b      20\n",
       "c     125\n",
       "dtype: int64"
      ]
     },
     "execution_count": 90,
     "metadata": {},
     "output_type": "execute_result"
    }
   ],
   "source": [
    "s2[s2>0]"
   ]
  },
  {
   "cell_type": "markdown",
   "id": "7b6fcf00-607b-4620-8cc2-8957914387c9",
   "metadata": {},
   "source": [
    "# Multiplição"
   ]
  },
  {
   "cell_type": "code",
   "execution_count": 91,
   "id": "1e9b2b94-4057-4e23-ae3d-37add1b3d6bf",
   "metadata": {},
   "outputs": [
    {
     "data": {
      "text/plain": [
       "a    15350\n",
       "b       40\n",
       "c      250\n",
       "d        0\n",
       "dtype: int64"
      ]
     },
     "execution_count": 91,
     "metadata": {},
     "output_type": "execute_result"
    }
   ],
   "source": [
    "s2*2"
   ]
  },
  {
   "cell_type": "code",
   "execution_count": 93,
   "id": "7529dd1d-6658-4e62-a4fd-0d4b83578b07",
   "metadata": {},
   "outputs": [
    {
     "data": {
      "text/plain": [
       "a    7675\n",
       "b      20\n",
       "c     125\n",
       "d       0\n",
       "dtype: int64"
      ]
     },
     "execution_count": 93,
     "metadata": {},
     "output_type": "execute_result"
    }
   ],
   "source": [
    "s2"
   ]
  },
  {
   "cell_type": "code",
   "execution_count": 94,
   "id": "b69e3128-c1f1-445b-b33f-6ff0378986f6",
   "metadata": {},
   "outputs": [
    {
     "data": {
      "text/plain": [
       "a    False\n",
       "b    False\n",
       "c    False\n",
       "d    False\n",
       "dtype: bool"
      ]
     },
     "execution_count": 94,
     "metadata": {},
     "output_type": "execute_result"
    }
   ],
   "source": [
    "# Verificar se tem um valor nulo, Usando function isnull()\n",
    "s2.isnull()"
   ]
  },
  {
   "cell_type": "markdown",
   "id": "4dce1bb1-bcc1-4dd9-be7b-6474d5af3141",
   "metadata": {},
   "source": [
    "# Criando um DataFrame "
   ]
  },
  {
   "cell_type": "code",
   "execution_count": 102,
   "id": "002b83b9-7921-403e-b3b0-70923faff3f5",
   "metadata": {},
   "outputs": [],
   "source": [
    "# Criando um dataframe de raiz (dict estrutura do dicionario)\n",
    "dados={'Cidades':['LU', 'BG', 'UB','MO', 'LU', 'HU'], 'Ano':[2009,2009,2009, 2010,2010,2010], 'Pop':[35.9, 21.2,16.9,22.5,33.5,66.5]}  \n",
    "df1=pd.DataFrame(dados)"
   ]
  },
  {
   "cell_type": "code",
   "execution_count": 61,
   "id": "420ab0f5-2134-44f6-a913-7c3bdb9e1ed4",
   "metadata": {},
   "outputs": [],
   "source": [
    "#dados2={'prov_costa':['luanda', 'cabinda', 'soyo', 'cuanzasul', 'benguela', 'namibe'], 'cid_costa':['luanda','cabinda','soyo','sumbe','benguela','mocamebes'], 'Pop':[34,24,16,10,8,9.7]} \n",
    "#dfa=pd.DataFrame(dados2)"
   ]
  },
  {
   "cell_type": "code",
   "execution_count": 103,
   "id": "d1865ab0-7785-4974-8a3b-1c953e70b534",
   "metadata": {},
   "outputs": [
    {
     "data": {
      "text/html": [
       "<div>\n",
       "<style scoped>\n",
       "    .dataframe tbody tr th:only-of-type {\n",
       "        vertical-align: middle;\n",
       "    }\n",
       "\n",
       "    .dataframe tbody tr th {\n",
       "        vertical-align: top;\n",
       "    }\n",
       "\n",
       "    .dataframe thead th {\n",
       "        text-align: right;\n",
       "    }\n",
       "</style>\n",
       "<table border=\"1\" class=\"dataframe\">\n",
       "  <thead>\n",
       "    <tr style=\"text-align: right;\">\n",
       "      <th></th>\n",
       "      <th>Cidades</th>\n",
       "      <th>Ano</th>\n",
       "      <th>Pop</th>\n",
       "    </tr>\n",
       "  </thead>\n",
       "  <tbody>\n",
       "    <tr>\n",
       "      <th>0</th>\n",
       "      <td>LU</td>\n",
       "      <td>2009</td>\n",
       "      <td>35.9</td>\n",
       "    </tr>\n",
       "    <tr>\n",
       "      <th>1</th>\n",
       "      <td>BG</td>\n",
       "      <td>2009</td>\n",
       "      <td>21.2</td>\n",
       "    </tr>\n",
       "    <tr>\n",
       "      <th>2</th>\n",
       "      <td>UB</td>\n",
       "      <td>2009</td>\n",
       "      <td>16.9</td>\n",
       "    </tr>\n",
       "    <tr>\n",
       "      <th>3</th>\n",
       "      <td>MO</td>\n",
       "      <td>2010</td>\n",
       "      <td>22.5</td>\n",
       "    </tr>\n",
       "    <tr>\n",
       "      <th>4</th>\n",
       "      <td>LU</td>\n",
       "      <td>2010</td>\n",
       "      <td>33.5</td>\n",
       "    </tr>\n",
       "    <tr>\n",
       "      <th>5</th>\n",
       "      <td>HU</td>\n",
       "      <td>2010</td>\n",
       "      <td>66.5</td>\n",
       "    </tr>\n",
       "  </tbody>\n",
       "</table>\n",
       "</div>"
      ],
      "text/plain": [
       "  Cidades   Ano   Pop\n",
       "0      LU  2009  35.9\n",
       "1      BG  2009  21.2\n",
       "2      UB  2009  16.9\n",
       "3      MO  2010  22.5\n",
       "4      LU  2010  33.5\n",
       "5      HU  2010  66.5"
      ]
     },
     "execution_count": 103,
     "metadata": {},
     "output_type": "execute_result"
    }
   ],
   "source": [
    "df1"
   ]
  },
  {
   "cell_type": "code",
   "execution_count": 64,
   "id": "6a4361de-62c6-4c63-9bc9-871a1de3661b",
   "metadata": {},
   "outputs": [
    {
     "data": {
      "text/html": [
       "<div>\n",
       "<style scoped>\n",
       "    .dataframe tbody tr th:only-of-type {\n",
       "        vertical-align: middle;\n",
       "    }\n",
       "\n",
       "    .dataframe tbody tr th {\n",
       "        vertical-align: top;\n",
       "    }\n",
       "\n",
       "    .dataframe thead th {\n",
       "        text-align: right;\n",
       "    }\n",
       "</style>\n",
       "<table border=\"1\" class=\"dataframe\">\n",
       "  <thead>\n",
       "    <tr style=\"text-align: right;\">\n",
       "      <th></th>\n",
       "      <th>prov_costa</th>\n",
       "      <th>cid_costa</th>\n",
       "      <th>Pop</th>\n",
       "      <th>build</th>\n",
       "    </tr>\n",
       "  </thead>\n",
       "  <tbody>\n",
       "    <tr>\n",
       "      <th>0</th>\n",
       "      <td>luanda</td>\n",
       "      <td>luanda</td>\n",
       "      <td>34.0</td>\n",
       "      <td>100</td>\n",
       "    </tr>\n",
       "    <tr>\n",
       "      <th>1</th>\n",
       "      <td>cabinda</td>\n",
       "      <td>cabinda</td>\n",
       "      <td>24.0</td>\n",
       "      <td>100</td>\n",
       "    </tr>\n",
       "    <tr>\n",
       "      <th>2</th>\n",
       "      <td>soyo</td>\n",
       "      <td>soyo</td>\n",
       "      <td>16.0</td>\n",
       "      <td>100</td>\n",
       "    </tr>\n",
       "    <tr>\n",
       "      <th>3</th>\n",
       "      <td>cuanzasul</td>\n",
       "      <td>sumbe</td>\n",
       "      <td>10.0</td>\n",
       "      <td>100</td>\n",
       "    </tr>\n",
       "    <tr>\n",
       "      <th>4</th>\n",
       "      <td>benguela</td>\n",
       "      <td>benguela</td>\n",
       "      <td>8.0</td>\n",
       "      <td>100</td>\n",
       "    </tr>\n",
       "    <tr>\n",
       "      <th>5</th>\n",
       "      <td>namibe</td>\n",
       "      <td>mocamebes</td>\n",
       "      <td>9.7</td>\n",
       "      <td>100</td>\n",
       "    </tr>\n",
       "  </tbody>\n",
       "</table>\n",
       "</div>"
      ],
      "text/plain": [
       "  prov_costa  cid_costa   Pop  build\n",
       "0     luanda     luanda  34.0    100\n",
       "1    cabinda    cabinda  24.0    100\n",
       "2       soyo       soyo  16.0    100\n",
       "3  cuanzasul      sumbe  10.0    100\n",
       "4   benguela   benguela   8.0    100\n",
       "5     namibe  mocamebes   9.7    100"
      ]
     },
     "execution_count": 64,
     "metadata": {},
     "output_type": "execute_result"
    }
   ],
   "source": [
    "#Adicionado mais uma coluna\n",
    "dfa['build']=100\n",
    "dfa"
   ]
  },
  {
   "cell_type": "code",
   "execution_count": 66,
   "id": "0ab1c23e-ced0-49c9-a94b-881c7f1eabfe",
   "metadata": {},
   "outputs": [
    {
     "data": {
      "text/html": [
       "<div>\n",
       "<style scoped>\n",
       "    .dataframe tbody tr th:only-of-type {\n",
       "        vertical-align: middle;\n",
       "    }\n",
       "\n",
       "    .dataframe tbody tr th {\n",
       "        vertical-align: top;\n",
       "    }\n",
       "\n",
       "    .dataframe thead th {\n",
       "        text-align: right;\n",
       "    }\n",
       "</style>\n",
       "<table border=\"1\" class=\"dataframe\">\n",
       "  <thead>\n",
       "    <tr style=\"text-align: right;\">\n",
       "      <th></th>\n",
       "      <th>prov_costa</th>\n",
       "      <th>cid_costa</th>\n",
       "      <th>Pop</th>\n",
       "    </tr>\n",
       "  </thead>\n",
       "  <tbody>\n",
       "    <tr>\n",
       "      <th>0</th>\n",
       "      <td>luanda</td>\n",
       "      <td>luanda</td>\n",
       "      <td>34.0</td>\n",
       "    </tr>\n",
       "    <tr>\n",
       "      <th>1</th>\n",
       "      <td>cabinda</td>\n",
       "      <td>cabinda</td>\n",
       "      <td>24.0</td>\n",
       "    </tr>\n",
       "    <tr>\n",
       "      <th>2</th>\n",
       "      <td>soyo</td>\n",
       "      <td>soyo</td>\n",
       "      <td>16.0</td>\n",
       "    </tr>\n",
       "    <tr>\n",
       "      <th>3</th>\n",
       "      <td>cuanzasul</td>\n",
       "      <td>sumbe</td>\n",
       "      <td>10.0</td>\n",
       "    </tr>\n",
       "    <tr>\n",
       "      <th>4</th>\n",
       "      <td>benguela</td>\n",
       "      <td>benguela</td>\n",
       "      <td>8.0</td>\n",
       "    </tr>\n",
       "    <tr>\n",
       "      <th>5</th>\n",
       "      <td>namibe</td>\n",
       "      <td>mocamebes</td>\n",
       "      <td>9.7</td>\n",
       "    </tr>\n",
       "  </tbody>\n",
       "</table>\n",
       "</div>"
      ],
      "text/plain": [
       "  prov_costa  cid_costa   Pop\n",
       "0     luanda     luanda  34.0\n",
       "1    cabinda    cabinda  24.0\n",
       "2       soyo       soyo  16.0\n",
       "3  cuanzasul      sumbe  10.0\n",
       "4   benguela   benguela   8.0\n",
       "5     namibe  mocamebes   9.7"
      ]
     },
     "execution_count": 66,
     "metadata": {},
     "output_type": "execute_result"
    }
   ],
   "source": [
    "#Apagar a columa construida\n",
    "# df2.drop(columns=[\"LU\"])\n",
    "dfa.drop(columns=[\"build\"])"
   ]
  },
  {
   "cell_type": "code",
   "execution_count": 96,
   "id": "11ab5377-144b-4621-87be-636c97570231",
   "metadata": {},
   "outputs": [
    {
     "data": {
      "text/html": [
       "<div>\n",
       "<style scoped>\n",
       "    .dataframe tbody tr th:only-of-type {\n",
       "        vertical-align: middle;\n",
       "    }\n",
       "\n",
       "    .dataframe tbody tr th {\n",
       "        vertical-align: top;\n",
       "    }\n",
       "\n",
       "    .dataframe thead th {\n",
       "        text-align: right;\n",
       "    }\n",
       "</style>\n",
       "<table border=\"1\" class=\"dataframe\">\n",
       "  <thead>\n",
       "    <tr style=\"text-align: right;\">\n",
       "      <th></th>\n",
       "      <th>Cidades</th>\n",
       "      <th>Ano</th>\n",
       "      <th>Pop</th>\n",
       "    </tr>\n",
       "  </thead>\n",
       "  <tbody>\n",
       "    <tr>\n",
       "      <th>0</th>\n",
       "      <td>LU</td>\n",
       "      <td>2009</td>\n",
       "      <td>35.9</td>\n",
       "    </tr>\n",
       "    <tr>\n",
       "      <th>1</th>\n",
       "      <td>BG</td>\n",
       "      <td>2009</td>\n",
       "      <td>21.2</td>\n",
       "    </tr>\n",
       "    <tr>\n",
       "      <th>2</th>\n",
       "      <td>UB</td>\n",
       "      <td>2009</td>\n",
       "      <td>16.9</td>\n",
       "    </tr>\n",
       "    <tr>\n",
       "      <th>3</th>\n",
       "      <td>MO</td>\n",
       "      <td>2010</td>\n",
       "      <td>22.5</td>\n",
       "    </tr>\n",
       "    <tr>\n",
       "      <th>4</th>\n",
       "      <td>LU</td>\n",
       "      <td>2010</td>\n",
       "      <td>33.5</td>\n",
       "    </tr>\n",
       "    <tr>\n",
       "      <th>5</th>\n",
       "      <td>HU</td>\n",
       "      <td>2010</td>\n",
       "      <td>66.5</td>\n",
       "    </tr>\n",
       "  </tbody>\n",
       "</table>\n",
       "</div>"
      ],
      "text/plain": [
       "  Cidades   Ano   Pop\n",
       "0      LU  2009  35.9\n",
       "1      BG  2009  21.2\n",
       "2      UB  2009  16.9\n",
       "3      MO  2010  22.5\n",
       "4      LU  2010  33.5\n",
       "5      HU  2010  66.5"
      ]
     },
     "execution_count": 96,
     "metadata": {},
     "output_type": "execute_result"
    }
   ],
   "source": [
    "# Imprimindo um dataframe Criado\n",
    "df1"
   ]
  },
  {
   "cell_type": "code",
   "execution_count": 104,
   "id": "2e70c5ff-9001-4bea-b029-3242fb13189b",
   "metadata": {},
   "outputs": [
    {
     "data": {
      "text/html": [
       "<div>\n",
       "<style scoped>\n",
       "    .dataframe tbody tr th:only-of-type {\n",
       "        vertical-align: middle;\n",
       "    }\n",
       "\n",
       "    .dataframe tbody tr th {\n",
       "        vertical-align: top;\n",
       "    }\n",
       "\n",
       "    .dataframe thead th {\n",
       "        text-align: right;\n",
       "    }\n",
       "</style>\n",
       "<table border=\"1\" class=\"dataframe\">\n",
       "  <thead>\n",
       "    <tr style=\"text-align: right;\">\n",
       "      <th></th>\n",
       "      <th>Cidades</th>\n",
       "      <th>Ano</th>\n",
       "      <th>Pop</th>\n",
       "    </tr>\n",
       "  </thead>\n",
       "  <tbody>\n",
       "    <tr>\n",
       "      <th>0</th>\n",
       "      <td>LU</td>\n",
       "      <td>2009</td>\n",
       "      <td>35.9</td>\n",
       "    </tr>\n",
       "    <tr>\n",
       "      <th>1</th>\n",
       "      <td>BG</td>\n",
       "      <td>2009</td>\n",
       "      <td>21.2</td>\n",
       "    </tr>\n",
       "  </tbody>\n",
       "</table>\n",
       "</div>"
      ],
      "text/plain": [
       "  Cidades   Ano   Pop\n",
       "0      LU  2009  35.9\n",
       "1      BG  2009  21.2"
      ]
     },
     "execution_count": 104,
     "metadata": {},
     "output_type": "execute_result"
    }
   ],
   "source": [
    "df1.head(2)"
   ]
  },
  {
   "cell_type": "markdown",
   "id": "febbb97c-a4cf-491c-ad8c-5a11decc9fac",
   "metadata": {},
   "source": [
    "# Visualizar partes de DataFrame"
   ]
  },
  {
   "cell_type": "code",
   "execution_count": 105,
   "id": "0dad1df8-a41e-4c75-88d2-bbb0a714e95d",
   "metadata": {},
   "outputs": [
    {
     "data": {
      "text/html": [
       "<div>\n",
       "<style scoped>\n",
       "    .dataframe tbody tr th:only-of-type {\n",
       "        vertical-align: middle;\n",
       "    }\n",
       "\n",
       "    .dataframe tbody tr th {\n",
       "        vertical-align: top;\n",
       "    }\n",
       "\n",
       "    .dataframe thead th {\n",
       "        text-align: right;\n",
       "    }\n",
       "</style>\n",
       "<table border=\"1\" class=\"dataframe\">\n",
       "  <thead>\n",
       "    <tr style=\"text-align: right;\">\n",
       "      <th></th>\n",
       "      <th>Cidades</th>\n",
       "      <th>Ano</th>\n",
       "      <th>Pop</th>\n",
       "    </tr>\n",
       "  </thead>\n",
       "  <tbody>\n",
       "    <tr>\n",
       "      <th>4</th>\n",
       "      <td>LU</td>\n",
       "      <td>2010</td>\n",
       "      <td>33.5</td>\n",
       "    </tr>\n",
       "    <tr>\n",
       "      <th>5</th>\n",
       "      <td>HU</td>\n",
       "      <td>2010</td>\n",
       "      <td>66.5</td>\n",
       "    </tr>\n",
       "  </tbody>\n",
       "</table>\n",
       "</div>"
      ],
      "text/plain": [
       "  Cidades   Ano   Pop\n",
       "4      LU  2010  33.5\n",
       "5      HU  2010  66.5"
      ]
     },
     "execution_count": 105,
     "metadata": {},
     "output_type": "execute_result"
    }
   ],
   "source": [
    "# Ver os dois ultimos registos\n",
    "df1.tail(2)"
   ]
  },
  {
   "cell_type": "code",
   "execution_count": 106,
   "id": "5196cfbb-0fe5-417c-b9f4-b01eb0955973",
   "metadata": {},
   "outputs": [
    {
     "data": {
      "text/html": [
       "<div>\n",
       "<style scoped>\n",
       "    .dataframe tbody tr th:only-of-type {\n",
       "        vertical-align: middle;\n",
       "    }\n",
       "\n",
       "    .dataframe tbody tr th {\n",
       "        vertical-align: top;\n",
       "    }\n",
       "\n",
       "    .dataframe thead th {\n",
       "        text-align: right;\n",
       "    }\n",
       "</style>\n",
       "<table border=\"1\" class=\"dataframe\">\n",
       "  <thead>\n",
       "    <tr style=\"text-align: right;\">\n",
       "      <th></th>\n",
       "      <th>Cidades</th>\n",
       "      <th>Ano</th>\n",
       "      <th>Pop</th>\n",
       "    </tr>\n",
       "  </thead>\n",
       "  <tbody>\n",
       "    <tr>\n",
       "      <th>1</th>\n",
       "      <td>BG</td>\n",
       "      <td>2009</td>\n",
       "      <td>21.2</td>\n",
       "    </tr>\n",
       "    <tr>\n",
       "      <th>2</th>\n",
       "      <td>UB</td>\n",
       "      <td>2009</td>\n",
       "      <td>16.9</td>\n",
       "    </tr>\n",
       "    <tr>\n",
       "      <th>0</th>\n",
       "      <td>LU</td>\n",
       "      <td>2009</td>\n",
       "      <td>35.9</td>\n",
       "    </tr>\n",
       "  </tbody>\n",
       "</table>\n",
       "</div>"
      ],
      "text/plain": [
       "  Cidades   Ano   Pop\n",
       "1      BG  2009  21.2\n",
       "2      UB  2009  16.9\n",
       "0      LU  2009  35.9"
      ]
     },
     "execution_count": 106,
     "metadata": {},
     "output_type": "execute_result"
    }
   ],
   "source": [
    "# Ver os df1 aletoriamente dois valores\n",
    "df1.sample(3)"
   ]
  },
  {
   "cell_type": "markdown",
   "id": "d7a477f0-50f6-4abb-a56e-70d56b372e16",
   "metadata": {},
   "source": [
    "# Novo DataFrame DF2 apartir do anterior(df1)"
   ]
  },
  {
   "cell_type": "code",
   "execution_count": 111,
   "id": "88a1dd72-96ed-4cec-a8e9-609029022962",
   "metadata": {},
   "outputs": [],
   "source": [
    "# J]a definido a sequecia de ordem que quero.\n",
    "df2=pd.DataFrame(dados, columns=['Ano','Cidades', 'Pop'])"
   ]
  },
  {
   "cell_type": "code",
   "execution_count": 112,
   "id": "6bf74972-9944-41b1-91d7-8f2fdd868046",
   "metadata": {},
   "outputs": [
    {
     "data": {
      "text/html": [
       "<div>\n",
       "<style scoped>\n",
       "    .dataframe tbody tr th:only-of-type {\n",
       "        vertical-align: middle;\n",
       "    }\n",
       "\n",
       "    .dataframe tbody tr th {\n",
       "        vertical-align: top;\n",
       "    }\n",
       "\n",
       "    .dataframe thead th {\n",
       "        text-align: right;\n",
       "    }\n",
       "</style>\n",
       "<table border=\"1\" class=\"dataframe\">\n",
       "  <thead>\n",
       "    <tr style=\"text-align: right;\">\n",
       "      <th></th>\n",
       "      <th>Ano</th>\n",
       "      <th>Cidades</th>\n",
       "      <th>Pop</th>\n",
       "    </tr>\n",
       "  </thead>\n",
       "  <tbody>\n",
       "    <tr>\n",
       "      <th>0</th>\n",
       "      <td>2009</td>\n",
       "      <td>LU</td>\n",
       "      <td>35.9</td>\n",
       "    </tr>\n",
       "    <tr>\n",
       "      <th>1</th>\n",
       "      <td>2009</td>\n",
       "      <td>BG</td>\n",
       "      <td>21.2</td>\n",
       "    </tr>\n",
       "    <tr>\n",
       "      <th>2</th>\n",
       "      <td>2009</td>\n",
       "      <td>UB</td>\n",
       "      <td>16.9</td>\n",
       "    </tr>\n",
       "    <tr>\n",
       "      <th>3</th>\n",
       "      <td>2010</td>\n",
       "      <td>MO</td>\n",
       "      <td>22.5</td>\n",
       "    </tr>\n",
       "    <tr>\n",
       "      <th>4</th>\n",
       "      <td>2010</td>\n",
       "      <td>LU</td>\n",
       "      <td>33.5</td>\n",
       "    </tr>\n",
       "    <tr>\n",
       "      <th>5</th>\n",
       "      <td>2010</td>\n",
       "      <td>HU</td>\n",
       "      <td>66.5</td>\n",
       "    </tr>\n",
       "  </tbody>\n",
       "</table>\n",
       "</div>"
      ],
      "text/plain": [
       "    Ano Cidades   Pop\n",
       "0  2009      LU  35.9\n",
       "1  2009      BG  21.2\n",
       "2  2009      UB  16.9\n",
       "3  2010      MO  22.5\n",
       "4  2010      LU  33.5\n",
       "5  2010      HU  66.5"
      ]
     },
     "execution_count": 112,
     "metadata": {},
     "output_type": "execute_result"
    }
   ],
   "source": [
    "df2"
   ]
  },
  {
   "cell_type": "code",
   "execution_count": 114,
   "id": "1a945222-c92b-467c-b29e-6f1ecc21a7e3",
   "metadata": {},
   "outputs": [
    {
     "data": {
      "text/plain": [
       "0    LU\n",
       "1    BG\n",
       "2    UB\n",
       "3    MO\n",
       "4    LU\n",
       "5    HU\n",
       "Name: Cidades, dtype: object"
      ]
     },
     "execution_count": 114,
     "metadata": {},
     "output_type": "execute_result"
    }
   ],
   "source": [
    "df2['Cidades']"
   ]
  },
  {
   "cell_type": "code",
   "execution_count": 115,
   "id": "28f35bb2-aa3e-48ef-b668-3ce60733376f",
   "metadata": {},
   "outputs": [
    {
     "data": {
      "text/plain": [
       "0    2009\n",
       "1    2009\n",
       "2    2009\n",
       "3    2010\n",
       "4    2010\n",
       "5    2010\n",
       "Name: Ano, dtype: int64"
      ]
     },
     "execution_count": 115,
     "metadata": {},
     "output_type": "execute_result"
    }
   ],
   "source": [
    "df2.Ano"
   ]
  },
  {
   "cell_type": "code",
   "execution_count": 116,
   "id": "da60e016-aaef-424a-a418-c6b71405841f",
   "metadata": {},
   "outputs": [
    {
     "data": {
      "text/plain": [
       "Ano          int64\n",
       "Cidades     object\n",
       "Pop        float64\n",
       "dtype: object"
      ]
     },
     "execution_count": 116,
     "metadata": {},
     "output_type": "execute_result"
    }
   ],
   "source": [
    "df2.dtypes"
   ]
  },
  {
   "cell_type": "markdown",
   "id": "e934257d-d628-4909-abff-a496dfa41511",
   "metadata": {},
   "source": [
    "# Atribuir valores"
   ]
  },
  {
   "cell_type": "code",
   "execution_count": 117,
   "id": "72631c20-4b24-4c76-a5e5-52a0907a3a8e",
   "metadata": {},
   "outputs": [],
   "source": [
    "df2['Estimativa']=50"
   ]
  },
  {
   "cell_type": "code",
   "execution_count": 118,
   "id": "97d4b97e-9ae2-4c67-95ca-ef48a687936f",
   "metadata": {},
   "outputs": [
    {
     "data": {
      "text/html": [
       "<div>\n",
       "<style scoped>\n",
       "    .dataframe tbody tr th:only-of-type {\n",
       "        vertical-align: middle;\n",
       "    }\n",
       "\n",
       "    .dataframe tbody tr th {\n",
       "        vertical-align: top;\n",
       "    }\n",
       "\n",
       "    .dataframe thead th {\n",
       "        text-align: right;\n",
       "    }\n",
       "</style>\n",
       "<table border=\"1\" class=\"dataframe\">\n",
       "  <thead>\n",
       "    <tr style=\"text-align: right;\">\n",
       "      <th></th>\n",
       "      <th>Ano</th>\n",
       "      <th>Cidades</th>\n",
       "      <th>Pop</th>\n",
       "      <th>Estimativa</th>\n",
       "    </tr>\n",
       "  </thead>\n",
       "  <tbody>\n",
       "    <tr>\n",
       "      <th>0</th>\n",
       "      <td>2009</td>\n",
       "      <td>LU</td>\n",
       "      <td>35.9</td>\n",
       "      <td>50</td>\n",
       "    </tr>\n",
       "    <tr>\n",
       "      <th>1</th>\n",
       "      <td>2009</td>\n",
       "      <td>BG</td>\n",
       "      <td>21.2</td>\n",
       "      <td>50</td>\n",
       "    </tr>\n",
       "    <tr>\n",
       "      <th>2</th>\n",
       "      <td>2009</td>\n",
       "      <td>UB</td>\n",
       "      <td>16.9</td>\n",
       "      <td>50</td>\n",
       "    </tr>\n",
       "    <tr>\n",
       "      <th>3</th>\n",
       "      <td>2010</td>\n",
       "      <td>MO</td>\n",
       "      <td>22.5</td>\n",
       "      <td>50</td>\n",
       "    </tr>\n",
       "    <tr>\n",
       "      <th>4</th>\n",
       "      <td>2010</td>\n",
       "      <td>LU</td>\n",
       "      <td>33.5</td>\n",
       "      <td>50</td>\n",
       "    </tr>\n",
       "    <tr>\n",
       "      <th>5</th>\n",
       "      <td>2010</td>\n",
       "      <td>HU</td>\n",
       "      <td>66.5</td>\n",
       "      <td>50</td>\n",
       "    </tr>\n",
       "  </tbody>\n",
       "</table>\n",
       "</div>"
      ],
      "text/plain": [
       "    Ano Cidades   Pop  Estimativa\n",
       "0  2009      LU  35.9          50\n",
       "1  2009      BG  21.2          50\n",
       "2  2009      UB  16.9          50\n",
       "3  2010      MO  22.5          50\n",
       "4  2010      LU  33.5          50\n",
       "5  2010      HU  66.5          50"
      ]
     },
     "execution_count": 118,
     "metadata": {},
     "output_type": "execute_result"
    }
   ],
   "source": [
    "df2"
   ]
  },
  {
   "cell_type": "code",
   "execution_count": 119,
   "id": "16c2fe1c-8596-4a64-bb7c-67ae21fcb06e",
   "metadata": {},
   "outputs": [
    {
     "data": {
      "text/html": [
       "<div>\n",
       "<style scoped>\n",
       "    .dataframe tbody tr th:only-of-type {\n",
       "        vertical-align: middle;\n",
       "    }\n",
       "\n",
       "    .dataframe tbody tr th {\n",
       "        vertical-align: top;\n",
       "    }\n",
       "\n",
       "    .dataframe thead th {\n",
       "        text-align: right;\n",
       "    }\n",
       "</style>\n",
       "<table border=\"1\" class=\"dataframe\">\n",
       "  <thead>\n",
       "    <tr style=\"text-align: right;\">\n",
       "      <th></th>\n",
       "      <th>Ano</th>\n",
       "      <th>Cidades</th>\n",
       "      <th>Pop</th>\n",
       "      <th>Estimativa</th>\n",
       "    </tr>\n",
       "  </thead>\n",
       "  <tbody>\n",
       "    <tr>\n",
       "      <th>0</th>\n",
       "      <td>2009</td>\n",
       "      <td>LU</td>\n",
       "      <td>35.9</td>\n",
       "      <td>0</td>\n",
       "    </tr>\n",
       "    <tr>\n",
       "      <th>1</th>\n",
       "      <td>2009</td>\n",
       "      <td>BG</td>\n",
       "      <td>21.2</td>\n",
       "      <td>1</td>\n",
       "    </tr>\n",
       "    <tr>\n",
       "      <th>2</th>\n",
       "      <td>2009</td>\n",
       "      <td>UB</td>\n",
       "      <td>16.9</td>\n",
       "      <td>2</td>\n",
       "    </tr>\n",
       "    <tr>\n",
       "      <th>3</th>\n",
       "      <td>2010</td>\n",
       "      <td>MO</td>\n",
       "      <td>22.5</td>\n",
       "      <td>3</td>\n",
       "    </tr>\n",
       "    <tr>\n",
       "      <th>4</th>\n",
       "      <td>2010</td>\n",
       "      <td>LU</td>\n",
       "      <td>33.5</td>\n",
       "      <td>4</td>\n",
       "    </tr>\n",
       "    <tr>\n",
       "      <th>5</th>\n",
       "      <td>2010</td>\n",
       "      <td>HU</td>\n",
       "      <td>66.5</td>\n",
       "      <td>5</td>\n",
       "    </tr>\n",
       "  </tbody>\n",
       "</table>\n",
       "</div>"
      ],
      "text/plain": [
       "    Ano Cidades   Pop  Estimativa\n",
       "0  2009      LU  35.9           0\n",
       "1  2009      BG  21.2           1\n",
       "2  2009      UB  16.9           2\n",
       "3  2010      MO  22.5           3\n",
       "4  2010      LU  33.5           4\n",
       "5  2010      HU  66.5           5"
      ]
     },
     "execution_count": 119,
     "metadata": {},
     "output_type": "execute_result"
    }
   ],
   "source": [
    "# Criar um valor para estimativa usando NumPy \n",
    "#Nota o valor 6 é em função dos registros devem ser do mesmo tamanho.  \n",
    "df2['Estimativa']=np.arange(6)\n",
    "df2"
   ]
  },
  {
   "cell_type": "code",
   "execution_count": 121,
   "id": "d8769721-eb33-470d-911d-cc7923b03722",
   "metadata": {},
   "outputs": [
    {
     "data": {
      "text/html": [
       "<div>\n",
       "<style scoped>\n",
       "    .dataframe tbody tr th:only-of-type {\n",
       "        vertical-align: middle;\n",
       "    }\n",
       "\n",
       "    .dataframe tbody tr th {\n",
       "        vertical-align: top;\n",
       "    }\n",
       "\n",
       "    .dataframe thead th {\n",
       "        text-align: right;\n",
       "    }\n",
       "</style>\n",
       "<table border=\"1\" class=\"dataframe\">\n",
       "  <thead>\n",
       "    <tr style=\"text-align: right;\">\n",
       "      <th></th>\n",
       "      <th>Ano</th>\n",
       "      <th>Cidades</th>\n",
       "      <th>Pop</th>\n",
       "      <th>Estimativa</th>\n",
       "    </tr>\n",
       "  </thead>\n",
       "  <tbody>\n",
       "    <tr>\n",
       "      <th>0</th>\n",
       "      <td>2009</td>\n",
       "      <td>LU</td>\n",
       "      <td>35.9</td>\n",
       "      <td>0</td>\n",
       "    </tr>\n",
       "    <tr>\n",
       "      <th>1</th>\n",
       "      <td>2009</td>\n",
       "      <td>BG</td>\n",
       "      <td>21.2</td>\n",
       "      <td>1</td>\n",
       "    </tr>\n",
       "    <tr>\n",
       "      <th>2</th>\n",
       "      <td>2009</td>\n",
       "      <td>UB</td>\n",
       "      <td>16.9</td>\n",
       "      <td>2</td>\n",
       "    </tr>\n",
       "    <tr>\n",
       "      <th>3</th>\n",
       "      <td>2010</td>\n",
       "      <td>MO</td>\n",
       "      <td>22.5</td>\n",
       "      <td>3</td>\n",
       "    </tr>\n",
       "    <tr>\n",
       "      <th>4</th>\n",
       "      <td>2010</td>\n",
       "      <td>LU</td>\n",
       "      <td>33.5</td>\n",
       "      <td>4</td>\n",
       "    </tr>\n",
       "    <tr>\n",
       "      <th>5</th>\n",
       "      <td>2010</td>\n",
       "      <td>HU</td>\n",
       "      <td>66.5</td>\n",
       "      <td>5</td>\n",
       "    </tr>\n",
       "  </tbody>\n",
       "</table>\n",
       "</div>"
      ],
      "text/plain": [
       "    Ano Cidades   Pop  Estimativa\n",
       "0  2009      LU  35.9           0\n",
       "1  2009      BG  21.2           1\n",
       "2  2009      UB  16.9           2\n",
       "3  2010      MO  22.5           3\n",
       "4  2010      LU  33.5           4\n",
       "5  2010      HU  66.5           5"
      ]
     },
     "execution_count": 121,
     "metadata": {},
     "output_type": "execute_result"
    }
   ],
   "source": [
    "#criando um dataframe atravez do anterior\n",
    "df3=df2\n",
    "df3"
   ]
  },
  {
   "cell_type": "code",
   "execution_count": 122,
   "id": "bae32a43-8a4c-4cd8-9cac-41f4c3cdd115",
   "metadata": {},
   "outputs": [
    {
     "data": {
      "text/html": [
       "<div>\n",
       "<style scoped>\n",
       "    .dataframe tbody tr th:only-of-type {\n",
       "        vertical-align: middle;\n",
       "    }\n",
       "\n",
       "    .dataframe tbody tr th {\n",
       "        vertical-align: top;\n",
       "    }\n",
       "\n",
       "    .dataframe thead th {\n",
       "        text-align: right;\n",
       "    }\n",
       "</style>\n",
       "<table border=\"1\" class=\"dataframe\">\n",
       "  <thead>\n",
       "    <tr style=\"text-align: right;\">\n",
       "      <th></th>\n",
       "      <th>Ano</th>\n",
       "      <th>Cidades</th>\n",
       "      <th>Pop</th>\n",
       "      <th>Estimativa</th>\n",
       "      <th>Nao Luanda</th>\n",
       "    </tr>\n",
       "  </thead>\n",
       "  <tbody>\n",
       "    <tr>\n",
       "      <th>0</th>\n",
       "      <td>2009</td>\n",
       "      <td>LU</td>\n",
       "      <td>35.9</td>\n",
       "      <td>0</td>\n",
       "      <td>False</td>\n",
       "    </tr>\n",
       "    <tr>\n",
       "      <th>1</th>\n",
       "      <td>2009</td>\n",
       "      <td>BG</td>\n",
       "      <td>21.2</td>\n",
       "      <td>1</td>\n",
       "      <td>True</td>\n",
       "    </tr>\n",
       "    <tr>\n",
       "      <th>2</th>\n",
       "      <td>2009</td>\n",
       "      <td>UB</td>\n",
       "      <td>16.9</td>\n",
       "      <td>2</td>\n",
       "      <td>True</td>\n",
       "    </tr>\n",
       "    <tr>\n",
       "      <th>3</th>\n",
       "      <td>2010</td>\n",
       "      <td>MO</td>\n",
       "      <td>22.5</td>\n",
       "      <td>3</td>\n",
       "      <td>True</td>\n",
       "    </tr>\n",
       "    <tr>\n",
       "      <th>4</th>\n",
       "      <td>2010</td>\n",
       "      <td>LU</td>\n",
       "      <td>33.5</td>\n",
       "      <td>4</td>\n",
       "      <td>False</td>\n",
       "    </tr>\n",
       "    <tr>\n",
       "      <th>5</th>\n",
       "      <td>2010</td>\n",
       "      <td>HU</td>\n",
       "      <td>66.5</td>\n",
       "      <td>5</td>\n",
       "      <td>True</td>\n",
       "    </tr>\n",
       "  </tbody>\n",
       "</table>\n",
       "</div>"
      ],
      "text/plain": [
       "    Ano Cidades   Pop  Estimativa  Nao Luanda\n",
       "0  2009      LU  35.9           0       False\n",
       "1  2009      BG  21.2           1        True\n",
       "2  2009      UB  16.9           2        True\n",
       "3  2010      MO  22.5           3        True\n",
       "4  2010      LU  33.5           4       False\n",
       "5  2010      HU  66.5           5        True"
      ]
     },
     "execution_count": 122,
     "metadata": {},
     "output_type": "execute_result"
    }
   ],
   "source": [
    "# Fazendo uma coluna com resultado de uma comparacao de cidades nao Luanda.\n",
    "df2['Nao Luanda']=df2.Cidades!='LU'\n",
    "df2"
   ]
  },
  {
   "cell_type": "code",
   "execution_count": 123,
   "id": "717ed2f9-92de-49cc-942b-a9ec2cf01bdc",
   "metadata": {},
   "outputs": [],
   "source": [
    "# Excluir coluna\n",
    "del df2['Nao Luanda']"
   ]
  },
  {
   "cell_type": "code",
   "execution_count": 124,
   "id": "2bf64578-6b75-45a6-a1ca-e318a5847b7f",
   "metadata": {},
   "outputs": [
    {
     "data": {
      "text/html": [
       "<div>\n",
       "<style scoped>\n",
       "    .dataframe tbody tr th:only-of-type {\n",
       "        vertical-align: middle;\n",
       "    }\n",
       "\n",
       "    .dataframe tbody tr th {\n",
       "        vertical-align: top;\n",
       "    }\n",
       "\n",
       "    .dataframe thead th {\n",
       "        text-align: right;\n",
       "    }\n",
       "</style>\n",
       "<table border=\"1\" class=\"dataframe\">\n",
       "  <thead>\n",
       "    <tr style=\"text-align: right;\">\n",
       "      <th></th>\n",
       "      <th>Ano</th>\n",
       "      <th>Cidades</th>\n",
       "      <th>Pop</th>\n",
       "      <th>Estimativa</th>\n",
       "    </tr>\n",
       "  </thead>\n",
       "  <tbody>\n",
       "    <tr>\n",
       "      <th>0</th>\n",
       "      <td>2009</td>\n",
       "      <td>LU</td>\n",
       "      <td>35.9</td>\n",
       "      <td>0</td>\n",
       "    </tr>\n",
       "    <tr>\n",
       "      <th>1</th>\n",
       "      <td>2009</td>\n",
       "      <td>BG</td>\n",
       "      <td>21.2</td>\n",
       "      <td>1</td>\n",
       "    </tr>\n",
       "    <tr>\n",
       "      <th>2</th>\n",
       "      <td>2009</td>\n",
       "      <td>UB</td>\n",
       "      <td>16.9</td>\n",
       "      <td>2</td>\n",
       "    </tr>\n",
       "    <tr>\n",
       "      <th>3</th>\n",
       "      <td>2010</td>\n",
       "      <td>MO</td>\n",
       "      <td>22.5</td>\n",
       "      <td>3</td>\n",
       "    </tr>\n",
       "    <tr>\n",
       "      <th>4</th>\n",
       "      <td>2010</td>\n",
       "      <td>LU</td>\n",
       "      <td>33.5</td>\n",
       "      <td>4</td>\n",
       "    </tr>\n",
       "    <tr>\n",
       "      <th>5</th>\n",
       "      <td>2010</td>\n",
       "      <td>HU</td>\n",
       "      <td>66.5</td>\n",
       "      <td>5</td>\n",
       "    </tr>\n",
       "  </tbody>\n",
       "</table>\n",
       "</div>"
      ],
      "text/plain": [
       "    Ano Cidades   Pop  Estimativa\n",
       "0  2009      LU  35.9           0\n",
       "1  2009      BG  21.2           1\n",
       "2  2009      UB  16.9           2\n",
       "3  2010      MO  22.5           3\n",
       "4  2010      LU  33.5           4\n",
       "5  2010      HU  66.5           5"
      ]
     },
     "execution_count": 124,
     "metadata": {},
     "output_type": "execute_result"
    }
   ],
   "source": [
    "# Resultados da coluna apagada\n",
    "df2"
   ]
  },
  {
   "cell_type": "code",
   "execution_count": 125,
   "id": "ea934ef7-fa72-4c98-bb78-d461d90007b7",
   "metadata": {},
   "outputs": [
    {
     "data": {
      "text/plain": [
       "(6, 4)"
      ]
     },
     "execution_count": 125,
     "metadata": {},
     "output_type": "execute_result"
    }
   ],
   "source": [
    "# Entender o DataFrame mostra o tamnho do dataFrame\n",
    "df2.shape"
   ]
  },
  {
   "cell_type": "code",
   "execution_count": 126,
   "id": "4d48551b-9006-4ade-a116-ad520b3da494",
   "metadata": {},
   "outputs": [
    {
     "data": {
      "text/plain": [
       "6"
      ]
     },
     "execution_count": 126,
     "metadata": {},
     "output_type": "execute_result"
    }
   ],
   "source": [
    "# pegar o primeiro item da lista do dataframe que e lista\n",
    "df2.shape[0]"
   ]
  },
  {
   "cell_type": "code",
   "execution_count": 128,
   "id": "3a9d1a88-ae22-4b2a-af1f-345fdfa67b08",
   "metadata": {},
   "outputs": [
    {
     "data": {
      "text/plain": [
       "RangeIndex(start=0, stop=6, step=1)"
      ]
     },
     "execution_count": 128,
     "metadata": {},
     "output_type": "execute_result"
    }
   ],
   "source": [
    "# Pegar o index do DataFrame\n",
    "df2.index"
   ]
  },
  {
   "cell_type": "code",
   "execution_count": 129,
   "id": "f933bfd4-64ac-47c5-aba2-b68026fd9441",
   "metadata": {},
   "outputs": [
    {
     "data": {
      "text/plain": [
       "Index(['Ano', 'Cidades', 'Pop', 'Estimativa'], dtype='object')"
      ]
     },
     "execution_count": 129,
     "metadata": {},
     "output_type": "execute_result"
    }
   ],
   "source": [
    "# Quero ver as colunas do DataFrame\n",
    "df2.columns"
   ]
  },
  {
   "cell_type": "code",
   "execution_count": 131,
   "id": "1267223a-7a7f-4b57-9f29-76264690f042",
   "metadata": {},
   "outputs": [
    {
     "data": {
      "text/plain": [
       "Ano           6\n",
       "Cidades       6\n",
       "Pop           6\n",
       "Estimativa    6\n",
       "dtype: int64"
      ]
     },
     "execution_count": 131,
     "metadata": {},
     "output_type": "execute_result"
    }
   ],
   "source": [
    "# Ver a contagem para o numero das matriz\n",
    "df2.count()"
   ]
  },
  {
   "cell_type": "code",
   "execution_count": 132,
   "id": "f36bb1a5-955b-41fc-90b0-abb61133b26f",
   "metadata": {},
   "outputs": [],
   "source": [
    "# Alterar as Informacoes das Colunas\n",
    "df2.columns=['Ano', 'Cidades', 'Populacao', 'Estimativa']"
   ]
  },
  {
   "cell_type": "code",
   "execution_count": 133,
   "id": "8901c106-25e5-4b50-801d-b2aeae067f82",
   "metadata": {},
   "outputs": [
    {
     "data": {
      "text/html": [
       "<div>\n",
       "<style scoped>\n",
       "    .dataframe tbody tr th:only-of-type {\n",
       "        vertical-align: middle;\n",
       "    }\n",
       "\n",
       "    .dataframe tbody tr th {\n",
       "        vertical-align: top;\n",
       "    }\n",
       "\n",
       "    .dataframe thead th {\n",
       "        text-align: right;\n",
       "    }\n",
       "</style>\n",
       "<table border=\"1\" class=\"dataframe\">\n",
       "  <thead>\n",
       "    <tr style=\"text-align: right;\">\n",
       "      <th></th>\n",
       "      <th>Ano</th>\n",
       "      <th>Cidades</th>\n",
       "      <th>Populacao</th>\n",
       "      <th>Estimativa</th>\n",
       "    </tr>\n",
       "  </thead>\n",
       "  <tbody>\n",
       "    <tr>\n",
       "      <th>count</th>\n",
       "      <td>6.000000</td>\n",
       "      <td>6</td>\n",
       "      <td>6.000000</td>\n",
       "      <td>6.000000</td>\n",
       "    </tr>\n",
       "    <tr>\n",
       "      <th>unique</th>\n",
       "      <td>NaN</td>\n",
       "      <td>5</td>\n",
       "      <td>NaN</td>\n",
       "      <td>NaN</td>\n",
       "    </tr>\n",
       "    <tr>\n",
       "      <th>top</th>\n",
       "      <td>NaN</td>\n",
       "      <td>LU</td>\n",
       "      <td>NaN</td>\n",
       "      <td>NaN</td>\n",
       "    </tr>\n",
       "    <tr>\n",
       "      <th>freq</th>\n",
       "      <td>NaN</td>\n",
       "      <td>2</td>\n",
       "      <td>NaN</td>\n",
       "      <td>NaN</td>\n",
       "    </tr>\n",
       "    <tr>\n",
       "      <th>mean</th>\n",
       "      <td>2009.500000</td>\n",
       "      <td>NaN</td>\n",
       "      <td>32.750000</td>\n",
       "      <td>2.500000</td>\n",
       "    </tr>\n",
       "    <tr>\n",
       "      <th>std</th>\n",
       "      <td>0.547723</td>\n",
       "      <td>NaN</td>\n",
       "      <td>18.106546</td>\n",
       "      <td>1.870829</td>\n",
       "    </tr>\n",
       "    <tr>\n",
       "      <th>min</th>\n",
       "      <td>2009.000000</td>\n",
       "      <td>NaN</td>\n",
       "      <td>16.900000</td>\n",
       "      <td>0.000000</td>\n",
       "    </tr>\n",
       "    <tr>\n",
       "      <th>25%</th>\n",
       "      <td>2009.000000</td>\n",
       "      <td>NaN</td>\n",
       "      <td>21.525000</td>\n",
       "      <td>1.250000</td>\n",
       "    </tr>\n",
       "    <tr>\n",
       "      <th>50%</th>\n",
       "      <td>2009.500000</td>\n",
       "      <td>NaN</td>\n",
       "      <td>28.000000</td>\n",
       "      <td>2.500000</td>\n",
       "    </tr>\n",
       "    <tr>\n",
       "      <th>75%</th>\n",
       "      <td>2010.000000</td>\n",
       "      <td>NaN</td>\n",
       "      <td>35.300000</td>\n",
       "      <td>3.750000</td>\n",
       "    </tr>\n",
       "    <tr>\n",
       "      <th>max</th>\n",
       "      <td>2010.000000</td>\n",
       "      <td>NaN</td>\n",
       "      <td>66.500000</td>\n",
       "      <td>5.000000</td>\n",
       "    </tr>\n",
       "  </tbody>\n",
       "</table>\n",
       "</div>"
      ],
      "text/plain": [
       "                Ano Cidades  Populacao  Estimativa\n",
       "count      6.000000       6   6.000000    6.000000\n",
       "unique          NaN       5        NaN         NaN\n",
       "top             NaN      LU        NaN         NaN\n",
       "freq            NaN       2        NaN         NaN\n",
       "mean    2009.500000     NaN  32.750000    2.500000\n",
       "std        0.547723     NaN  18.106546    1.870829\n",
       "min     2009.000000     NaN  16.900000    0.000000\n",
       "25%     2009.000000     NaN  21.525000    1.250000\n",
       "50%     2009.500000     NaN  28.000000    2.500000\n",
       "75%     2010.000000     NaN  35.300000    3.750000\n",
       "max     2010.000000     NaN  66.500000    5.000000"
      ]
     },
     "execution_count": 133,
     "metadata": {},
     "output_type": "execute_result"
    }
   ],
   "source": [
    "#Analisar a funcao describe\n",
    "df2.describe(include='all')"
   ]
  },
  {
   "cell_type": "code",
   "execution_count": 152,
   "id": "5e10956e-52d1-410c-ab3f-74d6bdf56b30",
   "metadata": {},
   "outputs": [],
   "source": [
    "#Alterar os valores dos dados\n",
    "df2['Ano']=df2['Ano']+6"
   ]
  },
  {
   "cell_type": "code",
   "execution_count": 153,
   "id": "11e63dbd-fe02-4816-adc1-f7627e6ee308",
   "metadata": {},
   "outputs": [
    {
     "data": {
      "text/html": [
       "<div>\n",
       "<style scoped>\n",
       "    .dataframe tbody tr th:only-of-type {\n",
       "        vertical-align: middle;\n",
       "    }\n",
       "\n",
       "    .dataframe tbody tr th {\n",
       "        vertical-align: top;\n",
       "    }\n",
       "\n",
       "    .dataframe thead th {\n",
       "        text-align: right;\n",
       "    }\n",
       "</style>\n",
       "<table border=\"1\" class=\"dataframe\">\n",
       "  <thead>\n",
       "    <tr style=\"text-align: right;\">\n",
       "      <th></th>\n",
       "      <th>Ano</th>\n",
       "      <th>Cidades</th>\n",
       "      <th>Populacao</th>\n",
       "      <th>Estimativa</th>\n",
       "    </tr>\n",
       "  </thead>\n",
       "  <tbody>\n",
       "    <tr>\n",
       "      <th>0</th>\n",
       "      <td>2022.0</td>\n",
       "      <td>LU</td>\n",
       "      <td>35.9</td>\n",
       "      <td>0</td>\n",
       "    </tr>\n",
       "    <tr>\n",
       "      <th>1</th>\n",
       "      <td>2022.0</td>\n",
       "      <td>BG</td>\n",
       "      <td>21.2</td>\n",
       "      <td>1</td>\n",
       "    </tr>\n",
       "    <tr>\n",
       "      <th>2</th>\n",
       "      <td>2022.0</td>\n",
       "      <td>UB</td>\n",
       "      <td>16.9</td>\n",
       "      <td>2</td>\n",
       "    </tr>\n",
       "    <tr>\n",
       "      <th>3</th>\n",
       "      <td>2024.0</td>\n",
       "      <td>MO</td>\n",
       "      <td>22.5</td>\n",
       "      <td>3</td>\n",
       "    </tr>\n",
       "    <tr>\n",
       "      <th>4</th>\n",
       "      <td>2024.0</td>\n",
       "      <td>LU</td>\n",
       "      <td>33.5</td>\n",
       "      <td>4</td>\n",
       "    </tr>\n",
       "    <tr>\n",
       "      <th>5</th>\n",
       "      <td>2024.0</td>\n",
       "      <td>HU</td>\n",
       "      <td>66.5</td>\n",
       "      <td>5</td>\n",
       "    </tr>\n",
       "  </tbody>\n",
       "</table>\n",
       "</div>"
      ],
      "text/plain": [
       "      Ano Cidades  Populacao  Estimativa\n",
       "0  2022.0      LU       35.9           0\n",
       "1  2022.0      BG       21.2           1\n",
       "2  2022.0      UB       16.9           2\n",
       "3  2024.0      MO       22.5           3\n",
       "4  2024.0      LU       33.5           4\n",
       "5  2024.0      HU       66.5           5"
      ]
     },
     "execution_count": 153,
     "metadata": {},
     "output_type": "execute_result"
    }
   ],
   "source": [
    "df2"
   ]
  },
  {
   "cell_type": "code",
   "execution_count": 154,
   "id": "60bcd219-1097-4178-869b-7570fe4932df",
   "metadata": {},
   "outputs": [
    {
     "data": {
      "text/html": [
       "<div>\n",
       "<style scoped>\n",
       "    .dataframe tbody tr th:only-of-type {\n",
       "        vertical-align: middle;\n",
       "    }\n",
       "\n",
       "    .dataframe tbody tr th {\n",
       "        vertical-align: top;\n",
       "    }\n",
       "\n",
       "    .dataframe thead th {\n",
       "        text-align: right;\n",
       "    }\n",
       "</style>\n",
       "<table border=\"1\" class=\"dataframe\">\n",
       "  <thead>\n",
       "    <tr style=\"text-align: right;\">\n",
       "      <th></th>\n",
       "      <th>Ano</th>\n",
       "      <th>Cidades</th>\n",
       "      <th>Populacao</th>\n",
       "      <th>Estimativa</th>\n",
       "    </tr>\n",
       "  </thead>\n",
       "  <tbody>\n",
       "    <tr>\n",
       "      <th>3</th>\n",
       "      <td>2024.0</td>\n",
       "      <td>MO</td>\n",
       "      <td>22.5</td>\n",
       "      <td>3</td>\n",
       "    </tr>\n",
       "    <tr>\n",
       "      <th>4</th>\n",
       "      <td>2024.0</td>\n",
       "      <td>LU</td>\n",
       "      <td>33.5</td>\n",
       "      <td>4</td>\n",
       "    </tr>\n",
       "    <tr>\n",
       "      <th>5</th>\n",
       "      <td>2024.0</td>\n",
       "      <td>HU</td>\n",
       "      <td>66.5</td>\n",
       "      <td>5</td>\n",
       "    </tr>\n",
       "  </tbody>\n",
       "</table>\n",
       "</div>"
      ],
      "text/plain": [
       "      Ano Cidades  Populacao  Estimativa\n",
       "3  2024.0      MO       22.5           3\n",
       "4  2024.0      LU       33.5           4\n",
       "5  2024.0      HU       66.5           5"
      ]
     },
     "execution_count": 154,
     "metadata": {},
     "output_type": "execute_result"
    }
   ],
   "source": [
    "# Atribuicao de valor fazendo comparacao(VFazendo uma comparacao do ano que e maior)\n",
    "df2[df2['Ano']>2022]"
   ]
  },
  {
   "cell_type": "code",
   "execution_count": 155,
   "id": "aa3cc040-5ca7-4acd-9a0d-3eb56a1b7c49",
   "metadata": {},
   "outputs": [
    {
     "data": {
      "text/html": [
       "<div>\n",
       "<style scoped>\n",
       "    .dataframe tbody tr th:only-of-type {\n",
       "        vertical-align: middle;\n",
       "    }\n",
       "\n",
       "    .dataframe tbody tr th {\n",
       "        vertical-align: top;\n",
       "    }\n",
       "\n",
       "    .dataframe thead th {\n",
       "        text-align: right;\n",
       "    }\n",
       "</style>\n",
       "<table border=\"1\" class=\"dataframe\">\n",
       "  <thead>\n",
       "    <tr style=\"text-align: right;\">\n",
       "      <th></th>\n",
       "      <th>Ano</th>\n",
       "      <th>Cidades</th>\n",
       "      <th>Populacao</th>\n",
       "      <th>Estimativa</th>\n",
       "    </tr>\n",
       "  </thead>\n",
       "  <tbody>\n",
       "    <tr>\n",
       "      <th>3</th>\n",
       "      <td>2024.0</td>\n",
       "      <td>MO</td>\n",
       "      <td>22.5</td>\n",
       "      <td>3</td>\n",
       "    </tr>\n",
       "    <tr>\n",
       "      <th>4</th>\n",
       "      <td>2024.0</td>\n",
       "      <td>LU</td>\n",
       "      <td>33.5</td>\n",
       "      <td>4</td>\n",
       "    </tr>\n",
       "    <tr>\n",
       "      <th>5</th>\n",
       "      <td>2024.0</td>\n",
       "      <td>HU</td>\n",
       "      <td>66.5</td>\n",
       "      <td>5</td>\n",
       "    </tr>\n",
       "  </tbody>\n",
       "</table>\n",
       "</div>"
      ],
      "text/plain": [
       "      Ano Cidades  Populacao  Estimativa\n",
       "3  2024.0      MO       22.5           3\n",
       "4  2024.0      LU       33.5           4\n",
       "5  2024.0      HU       66.5           5"
      ]
     },
     "execution_count": 155,
     "metadata": {},
     "output_type": "execute_result"
    }
   ],
   "source": [
    "# comparar so com ano\n",
    "df4 = df2[df2['Ano']>2022]\n",
    "df4"
   ]
  },
  {
   "cell_type": "code",
   "execution_count": 157,
   "id": "7595b7db-371c-48ea-80ce-58d5d91947ad",
   "metadata": {},
   "outputs": [
    {
     "data": {
      "text/html": [
       "<div>\n",
       "<style scoped>\n",
       "    .dataframe tbody tr th:only-of-type {\n",
       "        vertical-align: middle;\n",
       "    }\n",
       "\n",
       "    .dataframe tbody tr th {\n",
       "        vertical-align: top;\n",
       "    }\n",
       "\n",
       "    .dataframe thead th {\n",
       "        text-align: right;\n",
       "    }\n",
       "</style>\n",
       "<table border=\"1\" class=\"dataframe\">\n",
       "  <thead>\n",
       "    <tr style=\"text-align: right;\">\n",
       "      <th></th>\n",
       "      <th>Cidades</th>\n",
       "      <th>Populacao</th>\n",
       "      <th>Estimativa</th>\n",
       "    </tr>\n",
       "  </thead>\n",
       "  <tbody>\n",
       "    <tr>\n",
       "      <th>3</th>\n",
       "      <td>MO</td>\n",
       "      <td>22.5</td>\n",
       "      <td>3</td>\n",
       "    </tr>\n",
       "    <tr>\n",
       "      <th>4</th>\n",
       "      <td>LU</td>\n",
       "      <td>33.5</td>\n",
       "      <td>4</td>\n",
       "    </tr>\n",
       "    <tr>\n",
       "      <th>5</th>\n",
       "      <td>HU</td>\n",
       "      <td>66.5</td>\n",
       "      <td>5</td>\n",
       "    </tr>\n",
       "  </tbody>\n",
       "</table>\n",
       "</div>"
      ],
      "text/plain": [
       "  Cidades  Populacao  Estimativa\n",
       "3      MO       22.5           3\n",
       "4      LU       33.5           4\n",
       "5      HU       66.5           5"
      ]
     },
     "execution_count": 157,
     "metadata": {},
     "output_type": "execute_result"
    }
   ],
   "source": [
    "#Excluir coluna DataFrame\n",
    "df4.drop('Ano', axis='columns')"
   ]
  },
  {
   "cell_type": "code",
   "execution_count": 158,
   "id": "77ea7648-0a55-4507-92a5-bb4a6a2f1cb8",
   "metadata": {},
   "outputs": [
    {
     "data": {
      "text/html": [
       "<div>\n",
       "<style scoped>\n",
       "    .dataframe tbody tr th:only-of-type {\n",
       "        vertical-align: middle;\n",
       "    }\n",
       "\n",
       "    .dataframe tbody tr th {\n",
       "        vertical-align: top;\n",
       "    }\n",
       "\n",
       "    .dataframe thead th {\n",
       "        text-align: right;\n",
       "    }\n",
       "</style>\n",
       "<table border=\"1\" class=\"dataframe\">\n",
       "  <thead>\n",
       "    <tr style=\"text-align: right;\">\n",
       "      <th></th>\n",
       "      <th>Ano</th>\n",
       "      <th>Cidades</th>\n",
       "      <th>Populacao</th>\n",
       "      <th>Estimativa</th>\n",
       "    </tr>\n",
       "  </thead>\n",
       "  <tbody>\n",
       "    <tr>\n",
       "      <th>3</th>\n",
       "      <td>2024.0</td>\n",
       "      <td>MO</td>\n",
       "      <td>22.5</td>\n",
       "      <td>3</td>\n",
       "    </tr>\n",
       "    <tr>\n",
       "      <th>4</th>\n",
       "      <td>2024.0</td>\n",
       "      <td>LU</td>\n",
       "      <td>33.5</td>\n",
       "      <td>4</td>\n",
       "    </tr>\n",
       "    <tr>\n",
       "      <th>5</th>\n",
       "      <td>2024.0</td>\n",
       "      <td>HU</td>\n",
       "      <td>66.5</td>\n",
       "      <td>5</td>\n",
       "    </tr>\n",
       "  </tbody>\n",
       "</table>\n",
       "</div>"
      ],
      "text/plain": [
       "      Ano Cidades  Populacao  Estimativa\n",
       "3  2024.0      MO       22.5           3\n",
       "4  2024.0      LU       33.5           4\n",
       "5  2024.0      HU       66.5           5"
      ]
     },
     "execution_count": 158,
     "metadata": {},
     "output_type": "execute_result"
    }
   ],
   "source": [
    "#Observar atribuicao e excussao\n",
    "df4"
   ]
  },
  {
   "cell_type": "code",
   "execution_count": 159,
   "id": "6a80b46a-9563-4b8a-ab6d-6d8be24f8fa9",
   "metadata": {},
   "outputs": [
    {
     "data": {
      "text/html": [
       "<div>\n",
       "<style scoped>\n",
       "    .dataframe tbody tr th:only-of-type {\n",
       "        vertical-align: middle;\n",
       "    }\n",
       "\n",
       "    .dataframe tbody tr th {\n",
       "        vertical-align: top;\n",
       "    }\n",
       "\n",
       "    .dataframe thead th {\n",
       "        text-align: right;\n",
       "    }\n",
       "</style>\n",
       "<table border=\"1\" class=\"dataframe\">\n",
       "  <thead>\n",
       "    <tr style=\"text-align: right;\">\n",
       "      <th></th>\n",
       "      <th>Ano</th>\n",
       "      <th>Cidades</th>\n",
       "      <th>Populacao</th>\n",
       "      <th>Estimativa</th>\n",
       "    </tr>\n",
       "  </thead>\n",
       "  <tbody>\n",
       "    <tr>\n",
       "      <th>0</th>\n",
       "      <td>2022.0</td>\n",
       "      <td>LU</td>\n",
       "      <td>35.9</td>\n",
       "      <td>0</td>\n",
       "    </tr>\n",
       "    <tr>\n",
       "      <th>1</th>\n",
       "      <td>2022.0</td>\n",
       "      <td>BG</td>\n",
       "      <td>21.2</td>\n",
       "      <td>1</td>\n",
       "    </tr>\n",
       "    <tr>\n",
       "      <th>2</th>\n",
       "      <td>2022.0</td>\n",
       "      <td>UB</td>\n",
       "      <td>16.9</td>\n",
       "      <td>2</td>\n",
       "    </tr>\n",
       "    <tr>\n",
       "      <th>3</th>\n",
       "      <td>2024.0</td>\n",
       "      <td>MO</td>\n",
       "      <td>22.5</td>\n",
       "      <td>3</td>\n",
       "    </tr>\n",
       "    <tr>\n",
       "      <th>4</th>\n",
       "      <td>2024.0</td>\n",
       "      <td>LU</td>\n",
       "      <td>33.5</td>\n",
       "      <td>4</td>\n",
       "    </tr>\n",
       "    <tr>\n",
       "      <th>5</th>\n",
       "      <td>2024.0</td>\n",
       "      <td>HU</td>\n",
       "      <td>66.5</td>\n",
       "      <td>5</td>\n",
       "    </tr>\n",
       "  </tbody>\n",
       "</table>\n",
       "</div>"
      ],
      "text/plain": [
       "      Ano Cidades  Populacao  Estimativa\n",
       "0  2022.0      LU       35.9           0\n",
       "1  2022.0      BG       21.2           1\n",
       "2  2022.0      UB       16.9           2\n",
       "3  2024.0      MO       22.5           3\n",
       "4  2024.0      LU       33.5           4\n",
       "5  2024.0      HU       66.5           5"
      ]
     },
     "execution_count": 159,
     "metadata": {},
     "output_type": "execute_result"
    }
   ],
   "source": [
    "df2"
   ]
  },
  {
   "cell_type": "code",
   "execution_count": null,
   "id": "bbcff3e5-5300-49f6-b031-5e4d506bdaa7",
   "metadata": {},
   "outputs": [],
   "source": [
    "# Diferenca entre apagar  e de excluindo a coluna de vez\n",
    "df2.drop('Ano', axis='columns', inplace=True)"
   ]
  },
  {
   "cell_type": "code",
   "execution_count": 160,
   "id": "d9234af9-f111-4c0a-a677-33bb3510b9ef",
   "metadata": {},
   "outputs": [
    {
     "data": {
      "text/html": [
       "<div>\n",
       "<style scoped>\n",
       "    .dataframe tbody tr th:only-of-type {\n",
       "        vertical-align: middle;\n",
       "    }\n",
       "\n",
       "    .dataframe tbody tr th {\n",
       "        vertical-align: top;\n",
       "    }\n",
       "\n",
       "    .dataframe thead th {\n",
       "        text-align: right;\n",
       "    }\n",
       "</style>\n",
       "<table border=\"1\" class=\"dataframe\">\n",
       "  <thead>\n",
       "    <tr style=\"text-align: right;\">\n",
       "      <th></th>\n",
       "      <th>Ano</th>\n",
       "      <th>Cidades</th>\n",
       "      <th>Populacao</th>\n",
       "      <th>Estimativa</th>\n",
       "    </tr>\n",
       "  </thead>\n",
       "  <tbody>\n",
       "    <tr>\n",
       "      <th>2</th>\n",
       "      <td>2022.0</td>\n",
       "      <td>UB</td>\n",
       "      <td>16.9</td>\n",
       "      <td>2</td>\n",
       "    </tr>\n",
       "    <tr>\n",
       "      <th>3</th>\n",
       "      <td>2024.0</td>\n",
       "      <td>MO</td>\n",
       "      <td>22.5</td>\n",
       "      <td>3</td>\n",
       "    </tr>\n",
       "    <tr>\n",
       "      <th>4</th>\n",
       "      <td>2024.0</td>\n",
       "      <td>LU</td>\n",
       "      <td>33.5</td>\n",
       "      <td>4</td>\n",
       "    </tr>\n",
       "    <tr>\n",
       "      <th>5</th>\n",
       "      <td>2024.0</td>\n",
       "      <td>HU</td>\n",
       "      <td>66.5</td>\n",
       "      <td>5</td>\n",
       "    </tr>\n",
       "  </tbody>\n",
       "</table>\n",
       "</div>"
      ],
      "text/plain": [
       "      Ano Cidades  Populacao  Estimativa\n",
       "2  2022.0      UB       16.9           2\n",
       "3  2024.0      MO       22.5           3\n",
       "4  2024.0      LU       33.5           4\n",
       "5  2024.0      HU       66.5           5"
      ]
     },
     "execution_count": 160,
     "metadata": {},
     "output_type": "execute_result"
    }
   ],
   "source": [
    "#Excluir Linhas para mostrar e internamente n#ao alterou nada\n",
    "df2.drop([0,1])"
   ]
  },
  {
   "cell_type": "code",
   "execution_count": 161,
   "id": "8e61a8bd-97fd-4129-83eb-abcf5adb01c4",
   "metadata": {},
   "outputs": [
    {
     "data": {
      "text/html": [
       "<div>\n",
       "<style scoped>\n",
       "    .dataframe tbody tr th:only-of-type {\n",
       "        vertical-align: middle;\n",
       "    }\n",
       "\n",
       "    .dataframe tbody tr th {\n",
       "        vertical-align: top;\n",
       "    }\n",
       "\n",
       "    .dataframe thead th {\n",
       "        text-align: right;\n",
       "    }\n",
       "</style>\n",
       "<table border=\"1\" class=\"dataframe\">\n",
       "  <thead>\n",
       "    <tr style=\"text-align: right;\">\n",
       "      <th></th>\n",
       "      <th>Ano</th>\n",
       "      <th>Cidades</th>\n",
       "      <th>Populacao</th>\n",
       "      <th>Estimativa</th>\n",
       "    </tr>\n",
       "  </thead>\n",
       "  <tbody>\n",
       "    <tr>\n",
       "      <th>0</th>\n",
       "      <td>2022.0</td>\n",
       "      <td>LU</td>\n",
       "      <td>35.9</td>\n",
       "      <td>0</td>\n",
       "    </tr>\n",
       "    <tr>\n",
       "      <th>1</th>\n",
       "      <td>2022.0</td>\n",
       "      <td>BG</td>\n",
       "      <td>21.2</td>\n",
       "      <td>1</td>\n",
       "    </tr>\n",
       "    <tr>\n",
       "      <th>2</th>\n",
       "      <td>2022.0</td>\n",
       "      <td>UB</td>\n",
       "      <td>16.9</td>\n",
       "      <td>2</td>\n",
       "    </tr>\n",
       "    <tr>\n",
       "      <th>3</th>\n",
       "      <td>2024.0</td>\n",
       "      <td>MO</td>\n",
       "      <td>22.5</td>\n",
       "      <td>3</td>\n",
       "    </tr>\n",
       "    <tr>\n",
       "      <th>4</th>\n",
       "      <td>2024.0</td>\n",
       "      <td>LU</td>\n",
       "      <td>33.5</td>\n",
       "      <td>4</td>\n",
       "    </tr>\n",
       "    <tr>\n",
       "      <th>5</th>\n",
       "      <td>2024.0</td>\n",
       "      <td>HU</td>\n",
       "      <td>66.5</td>\n",
       "      <td>5</td>\n",
       "    </tr>\n",
       "  </tbody>\n",
       "</table>\n",
       "</div>"
      ],
      "text/plain": [
       "      Ano Cidades  Populacao  Estimativa\n",
       "0  2022.0      LU       35.9           0\n",
       "1  2022.0      BG       21.2           1\n",
       "2  2022.0      UB       16.9           2\n",
       "3  2024.0      MO       22.5           3\n",
       "4  2024.0      LU       33.5           4\n",
       "5  2024.0      HU       66.5           5"
      ]
     },
     "execution_count": 161,
     "metadata": {},
     "output_type": "execute_result"
    }
   ],
   "source": [
    "# Internamente n#ao altera por nao se usou o Inplace\n",
    "df2"
   ]
  },
  {
   "cell_type": "markdown",
   "id": "8abc20b0-fa3b-4fae-adc6-38d12fcc0848",
   "metadata": {},
   "source": [
    "Observe a propagada na exclusao de linha"
   ]
  },
  {
   "cell_type": "code",
   "execution_count": 165,
   "id": "a9fea9fe-1c3f-44ec-873b-cb9ec4c7b541",
   "metadata": {},
   "outputs": [],
   "source": [
    "dflinhas=df2"
   ]
  },
  {
   "cell_type": "code",
   "execution_count": 166,
   "id": "e3393812-e5c5-4f4e-9a37-9f6432c77faa",
   "metadata": {},
   "outputs": [],
   "source": [
    "dflinhas.drop([0,1],inplace=True)"
   ]
  },
  {
   "cell_type": "code",
   "execution_count": 167,
   "id": "ac4bb3a0-aeb0-44dc-b29a-e7b2982fbfd4",
   "metadata": {},
   "outputs": [
    {
     "data": {
      "text/html": [
       "<div>\n",
       "<style scoped>\n",
       "    .dataframe tbody tr th:only-of-type {\n",
       "        vertical-align: middle;\n",
       "    }\n",
       "\n",
       "    .dataframe tbody tr th {\n",
       "        vertical-align: top;\n",
       "    }\n",
       "\n",
       "    .dataframe thead th {\n",
       "        text-align: right;\n",
       "    }\n",
       "</style>\n",
       "<table border=\"1\" class=\"dataframe\">\n",
       "  <thead>\n",
       "    <tr style=\"text-align: right;\">\n",
       "      <th></th>\n",
       "      <th>Ano</th>\n",
       "      <th>Cidades</th>\n",
       "      <th>Populacao</th>\n",
       "      <th>Estimativa</th>\n",
       "    </tr>\n",
       "  </thead>\n",
       "  <tbody>\n",
       "    <tr>\n",
       "      <th>2</th>\n",
       "      <td>2022.0</td>\n",
       "      <td>UB</td>\n",
       "      <td>16.9</td>\n",
       "      <td>2</td>\n",
       "    </tr>\n",
       "    <tr>\n",
       "      <th>3</th>\n",
       "      <td>2024.0</td>\n",
       "      <td>MO</td>\n",
       "      <td>22.5</td>\n",
       "      <td>3</td>\n",
       "    </tr>\n",
       "    <tr>\n",
       "      <th>4</th>\n",
       "      <td>2024.0</td>\n",
       "      <td>LU</td>\n",
       "      <td>33.5</td>\n",
       "      <td>4</td>\n",
       "    </tr>\n",
       "    <tr>\n",
       "      <th>5</th>\n",
       "      <td>2024.0</td>\n",
       "      <td>HU</td>\n",
       "      <td>66.5</td>\n",
       "      <td>5</td>\n",
       "    </tr>\n",
       "  </tbody>\n",
       "</table>\n",
       "</div>"
      ],
      "text/plain": [
       "      Ano Cidades  Populacao  Estimativa\n",
       "2  2022.0      UB       16.9           2\n",
       "3  2024.0      MO       22.5           3\n",
       "4  2024.0      LU       33.5           4\n",
       "5  2024.0      HU       66.5           5"
      ]
     },
     "execution_count": 167,
     "metadata": {},
     "output_type": "execute_result"
    }
   ],
   "source": [
    "dflinhas"
   ]
  },
  {
   "cell_type": "code",
   "execution_count": 168,
   "id": "8150643c-3827-4dd3-8183-aeeda7f5f9ba",
   "metadata": {},
   "outputs": [
    {
     "data": {
      "text/html": [
       "<div>\n",
       "<style scoped>\n",
       "    .dataframe tbody tr th:only-of-type {\n",
       "        vertical-align: middle;\n",
       "    }\n",
       "\n",
       "    .dataframe tbody tr th {\n",
       "        vertical-align: top;\n",
       "    }\n",
       "\n",
       "    .dataframe thead th {\n",
       "        text-align: right;\n",
       "    }\n",
       "</style>\n",
       "<table border=\"1\" class=\"dataframe\">\n",
       "  <thead>\n",
       "    <tr style=\"text-align: right;\">\n",
       "      <th></th>\n",
       "      <th>Ano</th>\n",
       "      <th>Cidades</th>\n",
       "      <th>Populacao</th>\n",
       "      <th>Estimativa</th>\n",
       "    </tr>\n",
       "  </thead>\n",
       "  <tbody>\n",
       "    <tr>\n",
       "      <th>2</th>\n",
       "      <td>2022.0</td>\n",
       "      <td>UB</td>\n",
       "      <td>16.9</td>\n",
       "      <td>2</td>\n",
       "    </tr>\n",
       "    <tr>\n",
       "      <th>3</th>\n",
       "      <td>2024.0</td>\n",
       "      <td>MO</td>\n",
       "      <td>22.5</td>\n",
       "      <td>3</td>\n",
       "    </tr>\n",
       "    <tr>\n",
       "      <th>4</th>\n",
       "      <td>2024.0</td>\n",
       "      <td>LU</td>\n",
       "      <td>33.5</td>\n",
       "      <td>4</td>\n",
       "    </tr>\n",
       "    <tr>\n",
       "      <th>5</th>\n",
       "      <td>2024.0</td>\n",
       "      <td>HU</td>\n",
       "      <td>66.5</td>\n",
       "      <td>5</td>\n",
       "    </tr>\n",
       "  </tbody>\n",
       "</table>\n",
       "</div>"
      ],
      "text/plain": [
       "      Ano Cidades  Populacao  Estimativa\n",
       "2  2022.0      UB       16.9           2\n",
       "3  2024.0      MO       22.5           3\n",
       "4  2024.0      LU       33.5           4\n",
       "5  2024.0      HU       66.5           5"
      ]
     },
     "execution_count": 168,
     "metadata": {},
     "output_type": "execute_result"
    }
   ],
   "source": [
    "df2"
   ]
  },
  {
   "cell_type": "code",
   "execution_count": 169,
   "id": "c2ebf598-0dae-41e0-a629-648d3f2d57f8",
   "metadata": {},
   "outputs": [
    {
     "data": {
      "text/plain": [
       "Ano           2022.0\n",
       "Cidades           UB\n",
       "Populacao       16.9\n",
       "Estimativa         2\n",
       "Name: 2, dtype: object"
      ]
     },
     "execution_count": 169,
     "metadata": {},
     "output_type": "execute_result"
    }
   ],
   "source": [
    "# Ver dados de uma linha\n",
    "df2.iloc[0]"
   ]
  },
  {
   "cell_type": "code",
   "execution_count": 170,
   "id": "ad83abfd-a6f3-46e5-8673-95d5055f1a5f",
   "metadata": {},
   "outputs": [
    {
     "data": {
      "text/html": [
       "<div>\n",
       "<style scoped>\n",
       "    .dataframe tbody tr th:only-of-type {\n",
       "        vertical-align: middle;\n",
       "    }\n",
       "\n",
       "    .dataframe tbody tr th {\n",
       "        vertical-align: top;\n",
       "    }\n",
       "\n",
       "    .dataframe thead th {\n",
       "        text-align: right;\n",
       "    }\n",
       "</style>\n",
       "<table border=\"1\" class=\"dataframe\">\n",
       "  <thead>\n",
       "    <tr style=\"text-align: right;\">\n",
       "      <th></th>\n",
       "      <th>Ano</th>\n",
       "      <th>Cidades</th>\n",
       "      <th>Populacao</th>\n",
       "      <th>Estimativa</th>\n",
       "    </tr>\n",
       "  </thead>\n",
       "  <tbody>\n",
       "    <tr>\n",
       "      <th>3</th>\n",
       "      <td>2024.0</td>\n",
       "      <td>MO</td>\n",
       "      <td>22.5</td>\n",
       "      <td>3</td>\n",
       "    </tr>\n",
       "    <tr>\n",
       "      <th>4</th>\n",
       "      <td>2024.0</td>\n",
       "      <td>LU</td>\n",
       "      <td>33.5</td>\n",
       "      <td>4</td>\n",
       "    </tr>\n",
       "  </tbody>\n",
       "</table>\n",
       "</div>"
      ],
      "text/plain": [
       "      Ano Cidades  Populacao  Estimativa\n",
       "3  2024.0      MO       22.5           3\n",
       "4  2024.0      LU       33.5           4"
      ]
     },
     "execution_count": 170,
     "metadata": {},
     "output_type": "execute_result"
    }
   ],
   "source": [
    "# Ver a posicao 1 a 4\n",
    "df2.iloc[1:3]"
   ]
  },
  {
   "cell_type": "code",
   "execution_count": 171,
   "id": "afc3f3f8-a2be-4b6d-8892-ed647e900c5f",
   "metadata": {},
   "outputs": [
    {
     "data": {
      "text/html": [
       "<div>\n",
       "<style scoped>\n",
       "    .dataframe tbody tr th:only-of-type {\n",
       "        vertical-align: middle;\n",
       "    }\n",
       "\n",
       "    .dataframe tbody tr th {\n",
       "        vertical-align: top;\n",
       "    }\n",
       "\n",
       "    .dataframe thead th {\n",
       "        text-align: right;\n",
       "    }\n",
       "</style>\n",
       "<table border=\"1\" class=\"dataframe\">\n",
       "  <thead>\n",
       "    <tr style=\"text-align: right;\">\n",
       "      <th></th>\n",
       "      <th>Cidades</th>\n",
       "      <th>Populacao</th>\n",
       "    </tr>\n",
       "  </thead>\n",
       "  <tbody>\n",
       "    <tr>\n",
       "      <th>3</th>\n",
       "      <td>MO</td>\n",
       "      <td>22.5</td>\n",
       "    </tr>\n",
       "    <tr>\n",
       "      <th>4</th>\n",
       "      <td>LU</td>\n",
       "      <td>33.5</td>\n",
       "    </tr>\n",
       "  </tbody>\n",
       "</table>\n",
       "</div>"
      ],
      "text/plain": [
       "  Cidades  Populacao\n",
       "3      MO       22.5\n",
       "4      LU       33.5"
      ]
     },
     "execution_count": 171,
     "metadata": {},
     "output_type": "execute_result"
    }
   ],
   "source": [
    "df2.iloc[1:3,[1,2]]"
   ]
  },
  {
   "cell_type": "code",
   "execution_count": 172,
   "id": "081d048d-0521-4b57-bfac-662df89ab5ea",
   "metadata": {},
   "outputs": [
    {
     "data": {
      "image/png": "[encoded data removed]",
      "text/plain": [
       "<IPython.core.display.Image object>"
      ]
     },
     "execution_count": 172,
     "metadata": {
      "image/png": {
       "height": 600,
       "width": 600
      }
     },
     "output_type": "execute_result"
    }
   ],
   "source": [
    "# Fim da aula e revisao\n",
    "from IPython.display import Image\n",
    "\n",
    "# Specify the path to your image file\n",
    "img_path = '/mnt/c/Users/Amílcar José/Desktop/Pandas.png'\n",
    "\n",
    "# Display the image\n",
    "(Image(filename=img_path, width=600, height=600))"
   ]
  },
  {
   "cell_type": "code",
   "execution_count": null,
   "id": "25759cd5-6f77-436a-936a-bd01ee2a1282",
   "metadata": {
    "editable": true,
    "slideshow": {
     "slide_type": ""
    },
    "tags": []
   },
   "outputs": [],
   "source": []
  }
 ],
 "metadata": {
  "kernelspec": {
   "display_name": "Python 3 (ipykernel)",
   "language": "python",
   "name": "python3"
  },
  "language_info": {
   "codemirror_mode": {
    "name": "ipython",
    "version": 3
   },
   "file_extension": ".py",
   "mimetype": "text/x-python",
   "name": "python",
   "nbconvert_exporter": "python",
   "pygments_lexer": "ipython3",
   "version": "3.11.5"
  }
 },
 "nbformat": 4,
 "nbformat_minor": 5
}
